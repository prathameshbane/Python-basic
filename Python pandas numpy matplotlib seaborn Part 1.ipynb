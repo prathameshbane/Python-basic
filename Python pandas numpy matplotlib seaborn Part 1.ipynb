{
 "cells": [
  {
   "cell_type": "markdown",
   "metadata": {},
   "source": [
    "## Python Basics String"
   ]
  },
  {
   "cell_type": "markdown",
   "metadata": {},
   "source": [
    "#### Format string"
   ]
  },
  {
   "cell_type": "code",
   "execution_count": 12,
   "metadata": {},
   "outputs": [],
   "source": [
    "price = 34\n",
    "name = \"Prathamesh\""
   ]
  },
  {
   "cell_type": "code",
   "execution_count": 13,
   "metadata": {},
   "outputs": [
    {
     "name": "stdout",
     "output_type": "stream",
     "text": [
      "this is Prathamesh and cost me 34.00\n"
     ]
    }
   ],
   "source": [
    "print('this is {} and cost me {:.2f}'.format(name,price))"
   ]
  },
  {
   "cell_type": "markdown",
   "metadata": {},
   "source": [
    "#### User input"
   ]
  },
  {
   "cell_type": "code",
   "execution_count": 15,
   "metadata": {},
   "outputs": [
    {
     "name": "stdout",
     "output_type": "stream",
     "text": [
      "enter your name: Prathamesh\n"
     ]
    }
   ],
   "source": [
    "a = input(\"enter your name: \")"
   ]
  },
  {
   "cell_type": "markdown",
   "metadata": {},
   "source": [
    "#### Try except finally"
   ]
  },
  {
   "cell_type": "code",
   "execution_count": 16,
   "metadata": {},
   "outputs": [
    {
     "ename": "NameError",
     "evalue": "name 'x' is not defined",
     "output_type": "error",
     "traceback": [
      "\u001b[1;31m---------------------------------------------------------------------------\u001b[0m",
      "\u001b[1;31mNameError\u001b[0m                                 Traceback (most recent call last)",
      "\u001b[1;32m<ipython-input-16-fc17d851ef81>\u001b[0m in \u001b[0;36m<module>\u001b[1;34m\u001b[0m\n\u001b[1;32m----> 1\u001b[1;33m \u001b[0mprint\u001b[0m\u001b[1;33m(\u001b[0m\u001b[0mx\u001b[0m\u001b[1;33m)\u001b[0m\u001b[1;33m\u001b[0m\u001b[1;33m\u001b[0m\u001b[0m\n\u001b[0m",
      "\u001b[1;31mNameError\u001b[0m: name 'x' is not defined"
     ]
    }
   ],
   "source": [
    "print(x)"
   ]
  },
  {
   "cell_type": "code",
   "execution_count": 17,
   "metadata": {},
   "outputs": [
    {
     "name": "stdout",
     "output_type": "stream",
     "text": [
      "prathamesh error\n"
     ]
    }
   ],
   "source": [
    "try:\n",
    "    print(x)\n",
    "except:\n",
    "    print(\"prathamesh error\")\n",
    "    "
   ]
  },
  {
   "cell_type": "code",
   "execution_count": 19,
   "metadata": {},
   "outputs": [
    {
     "ename": "ZeroDivisionError",
     "evalue": "division by zero",
     "output_type": "error",
     "traceback": [
      "\u001b[1;31m---------------------------------------------------------------------------\u001b[0m",
      "\u001b[1;31mZeroDivisionError\u001b[0m                         Traceback (most recent call last)",
      "\u001b[1;32m<ipython-input-19-0106664d39e8>\u001b[0m in \u001b[0;36m<module>\u001b[1;34m\u001b[0m\n\u001b[1;32m----> 1\u001b[1;33m \u001b[1;36m5\u001b[0m\u001b[1;33m/\u001b[0m\u001b[1;36m0\u001b[0m\u001b[1;33m\u001b[0m\u001b[1;33m\u001b[0m\u001b[0m\n\u001b[0m",
      "\u001b[1;31mZeroDivisionError\u001b[0m: division by zero"
     ]
    }
   ],
   "source": [
    "5/0"
   ]
  },
  {
   "cell_type": "markdown",
   "metadata": {},
   "source": [
    "###### try except else"
   ]
  },
  {
   "cell_type": "code",
   "execution_count": 25,
   "metadata": {},
   "outputs": [
    {
     "name": "stdout",
     "output_type": "stream",
     "text": [
      "enter the number5\n",
      "enter the number0\n",
      "value Other than zero\n"
     ]
    }
   ],
   "source": [
    "try:\n",
    "    a= int(input(\"enter the number\"))\n",
    "    b = int(input(\"enter the number\"))\n",
    "    c = a/b\n",
    "    \n",
    "except NameError:\n",
    "    print(\"there is\")\n",
    "except ZeroDivisionError:\n",
    "    print(\"value Other than zero\")\n",
    "else:\n",
    "    print(c)\n",
    "    \n",
    "    "
   ]
  },
  {
   "cell_type": "markdown",
   "metadata": {},
   "source": [
    "###### try else finally\n"
   ]
  },
  {
   "cell_type": "code",
   "execution_count": 27,
   "metadata": {},
   "outputs": [
    {
     "name": "stdout",
     "output_type": "stream",
     "text": [
      "enter the number8\n",
      "enter the number0\n",
      "value Other than zero\n",
      "Run again\n"
     ]
    }
   ],
   "source": [
    "try:\n",
    "    a= int(input(\"enter the number\"))\n",
    "    b = int(input(\"enter the number\"))\n",
    "    c = a/b\n",
    "    \n",
    "except NameError:\n",
    "    print(\"there is\")\n",
    "except ZeroDivisionError:\n",
    "    print(\"value Other than zero\")\n",
    "else:\n",
    "    print(c)\n",
    "    \n",
    "finally:\n",
    "    print('Run again')"
   ]
  },
  {
   "cell_type": "code",
   "execution_count": 28,
   "metadata": {},
   "outputs": [
    {
     "name": "stdout",
     "output_type": "stream",
     "text": [
      "enter the number3\n",
      "enter the numberpra\n",
      "other error\n",
      "Run again\n"
     ]
    }
   ],
   "source": [
    "try:\n",
    "    a= int(input(\"enter the number\"))\n",
    "    b = int(input(\"enter the number\"))\n",
    "    c = a/b\n",
    "    \n",
    "except NameError:\n",
    "    print(\"there is\")\n",
    "except ZeroDivisionError:\n",
    "    print(\"value Other than zero\")\n",
    "except Exception:\n",
    "    print(\"other error\")\n",
    "else:\n",
    "    print(c)\n",
    "    \n",
    "finally:\n",
    "    print('Run again')"
   ]
  },
  {
   "cell_type": "markdown",
   "metadata": {},
   "source": [
    "### Custom exception"
   ]
  },
  {
   "cell_type": "code",
   "execution_count": 32,
   "metadata": {},
   "outputs": [],
   "source": [
    "class error(Exception):\n",
    "    pass\n",
    "class dob_error(error):\n",
    "    pass\n",
    "class custom(error):\n",
    "    pass"
   ]
  },
  {
   "cell_type": "code",
   "execution_count": 35,
   "metadata": {},
   "outputs": [
    {
     "name": "stdout",
     "output_type": "stream",
     "text": [
      "enter the age1988\n",
      "please try next year\n"
     ]
    }
   ],
   "source": [
    "year = int(input(\"enter the age\"))\n",
    "\n",
    "age = 2021 - year\n",
    "\n",
    "try:\n",
    "    if age > 20 and age <30:\n",
    "        print(\"eligible\")\n",
    "        \n",
    "    else:\n",
    "        raise dob_error\n",
    "except dob_error:\n",
    "    print(\"please try next year\")\n",
    "        "
   ]
  },
  {
   "cell_type": "markdown",
   "metadata": {},
   "source": [
    "### Python Assert"
   ]
  },
  {
   "cell_type": "code",
   "execution_count": 41,
   "metadata": {},
   "outputs": [
    {
     "name": "stdout",
     "output_type": "stream",
     "text": [
      "enter number12\n",
      "right number\n"
     ]
    }
   ],
   "source": [
    "try:\n",
    "    a= int(input(\"enter number\"))\n",
    "    assert a/2!=0\n",
    "    print(\"right number\")\n",
    "except AssertionError:\n",
    "    print('wrong number')"
   ]
  },
  {
   "cell_type": "markdown",
   "metadata": {},
   "source": [
    "# Reg Ex"
   ]
  },
  {
   "cell_type": "markdown",
   "metadata": {},
   "source": [
    "1. findall\tReturns a list containing all matches\n",
    "2. search\tReturns a Match object if there is a match anywhere in the string\n",
    "3. split\tReturns a list where the string has been split at each match\n",
    "4. sub\tReplaces one or many matches with a string"
   ]
  },
  {
   "cell_type": "code",
   "execution_count": 42,
   "metadata": {},
   "outputs": [],
   "source": [
    "import re"
   ]
  },
  {
   "cell_type": "code",
   "execution_count": 87,
   "metadata": {},
   "outputs": [],
   "source": [
    "a = \"i am a boy and my name is prathamesh bane my email pratha1536839793. edxxxxxxxxx im studying in stevens #zentlogy ! institute of technology.\""
   ]
  },
  {
   "cell_type": "code",
   "execution_count": 52,
   "metadata": {},
   "outputs": [
    {
     "name": "stdout",
     "output_type": "stream",
     "text": [
      "['a', 'a', 'b', 'a', 'a', 'a', 'a', 'b', 'a', 'a', 'a', 'a']\n"
     ]
    }
   ],
   "source": [
    "print(re.findall(\"[a-b]\",a))\n",
    "\n",
    "#Find all lower case characters alphabetically between \"a\" and \"b\":"
   ]
  },
  {
   "cell_type": "code",
   "execution_count": 60,
   "metadata": {},
   "outputs": [
    {
     "name": "stdout",
     "output_type": "stream",
     "text": [
      "['rathame']\n"
     ]
    }
   ],
   "source": [
    "print(re.findall(\"ra....e\" ,a))\n",
    "\n",
    "#Search for a sequence that starts with \"RA\", followed by FOUR (any) characters, and an \"E\""
   ]
  },
  {
   "cell_type": "code",
   "execution_count": 63,
   "metadata": {},
   "outputs": [
    {
     "name": "stdout",
     "output_type": "stream",
     "text": [
      "yes\n"
     ]
    }
   ],
   "source": [
    "x = re.findall(\"^i\",a)\n",
    "\n",
    "#Check if the string starts with 'i':\n",
    "\n",
    "\n",
    "if x:\n",
    "    print('yes')\n",
    "    \n",
    "else:\n",
    "    print('no')"
   ]
  },
  {
   "cell_type": "code",
   "execution_count": 66,
   "metadata": {},
   "outputs": [
    {
     "name": "stdout",
     "output_type": "stream",
     "text": [
      "yes\n"
     ]
    }
   ],
   "source": [
    "x = re.findall(\".$\",a)\n",
    "\n",
    "#Check if the string ends with '.':\n",
    "\n",
    "\n",
    "if x:\n",
    "    print('yes')\n",
    "    \n",
    "else:\n",
    "    print('no')"
   ]
  },
  {
   "cell_type": "code",
   "execution_count": 68,
   "metadata": {},
   "outputs": [
    {
     "name": "stdout",
     "output_type": "stream",
     "text": [
      "['ra', 'ra']\n",
      "yes\n"
     ]
    }
   ],
   "source": [
    "x = re.findall(\"ra*\",a)\n",
    "\n",
    "#Check if the string contains \"ai\" followed by 0 or more \"x\" characters:\n",
    "\n",
    "print(x)\n",
    "if x:\n",
    "    print('yes')\n",
    "    \n",
    "else:\n",
    "    print('no')"
   ]
  },
  {
   "cell_type": "code",
   "execution_count": 69,
   "metadata": {},
   "outputs": [
    {
     "name": "stdout",
     "output_type": "stream",
     "text": [
      "['rat', 'rat']\n",
      "yes\n"
     ]
    }
   ],
   "source": [
    "x= re.findall(\"rat+\",a)\n",
    "\n",
    "#Check if the string contains \"ra\" followed by 1 or more \"t\" characters:\n",
    "\n",
    "\n",
    "print(x)\n",
    "if x:\n",
    "    print(\"yes\")\n",
    "else:\n",
    "    print(\"no\")\n",
    "    \n",
    "    "
   ]
  },
  {
   "cell_type": "code",
   "execution_count": 74,
   "metadata": {},
   "outputs": [
    {
     "name": "stdout",
     "output_type": "stream",
     "text": [
      "['edxxxxx']\n",
      "yes\n"
     ]
    }
   ],
   "source": [
    "x = re.findall(\"edx{5}\",a)\n",
    "\n",
    "#Check if the string contains \"ed\" followed by exactly five \"x\" characters:\n",
    "\n",
    "\n",
    "print(x)\n",
    "\n",
    "if x:\n",
    "    print('yes')\n",
    "    \n",
    "else:\n",
    "    print('no')"
   ]
  },
  {
   "cell_type": "code",
   "execution_count": 77,
   "metadata": {},
   "outputs": [
    {
     "name": "stdout",
     "output_type": "stream",
     "text": [
      "['prathamesh', 'technology']\n",
      "yes\n"
     ]
    }
   ],
   "source": [
    "x = re.findall(\"prathamesh|technology\",a)\n",
    "\n",
    "#Check if the string contains either \"prathamesh\" or \"technology\":\n",
    "\n",
    "print(x)\n",
    "\n",
    "if x:\n",
    "    print(\"yes\")\n",
    "else:\n",
    "    print(\"no\")"
   ]
  },
  {
   "cell_type": "code",
   "execution_count": 80,
   "metadata": {},
   "outputs": [
    {
     "name": "stdout",
     "output_type": "stream",
     "text": [
      "<re.Match object; span=(0, 1), match='i'>\n",
      "yes\n"
     ]
    }
   ],
   "source": [
    "x = re.search(\"\\Ai\",a)\n",
    "\n",
    "print(x)\n",
    "\n",
    "#Returns a match if the specified characters are at the beginning of the string\n",
    "\n",
    "if x:\n",
    "    print(\"yes\")\n",
    "else:\n",
    "    print(\"no\")"
   ]
  },
  {
   "cell_type": "code",
   "execution_count": 83,
   "metadata": {},
   "outputs": [
    {
     "name": "stdout",
     "output_type": "stream",
     "text": [
      "<re.Match object; span=(130, 141), match='technology.'>\n",
      "yes\n"
     ]
    }
   ],
   "source": [
    "x = re.search(\"technology.\\Z\",a)\n",
    "\n",
    "#Returns a match if the specified characters are at the end of the string\n",
    "\n",
    "print(x)\n",
    "\n",
    "if x:\n",
    "    print(\"yes\")\n",
    "    \n",
    "else:\n",
    "    print(\"no\")"
   ]
  },
  {
   "cell_type": "code",
   "execution_count": 85,
   "metadata": {},
   "outputs": [
    {
     "name": "stdout",
     "output_type": "stream",
     "text": [
      "None\n",
      "no\n"
     ]
    }
   ],
   "source": [
    "x = re.search(r\"\\blogy\",a)\n",
    "\n",
    "\n",
    "print(x)\n",
    "\n",
    "#Check if \"logy\" is present at the beginning of a WORD:\n",
    "\n",
    "\n",
    "if x:\n",
    "    print(\"yes\")\n",
    "else:\n",
    "    print(\"no\")"
   ]
  },
  {
   "cell_type": "code",
   "execution_count": 89,
   "metadata": {},
   "outputs": [
    {
     "name": "stdout",
     "output_type": "stream",
     "text": [
      "<re.Match object; span=(109, 113), match='logy'>\n",
      "yes\n"
     ]
    }
   ],
   "source": [
    "x = re.search(r\"logy\\b\",a)\n",
    "\n",
    "#Check if \"logy\" is present at the end of a WORD:\n",
    "\n",
    "print(x)\n",
    "\n",
    "if x:\n",
    "    print(\"yes\")\n",
    "else:\n",
    "    print(\"no\")"
   ]
  },
  {
   "cell_type": "code",
   "execution_count": 90,
   "metadata": {},
   "outputs": [
    {
     "name": "stdout",
     "output_type": "stream",
     "text": [
      "<re.Match object; span=(109, 113), match='logy'>\n"
     ]
    }
   ],
   "source": [
    "x = re.search(r\"\\Blogy\",a)\n",
    "\n",
    "print(x)\n",
    "\n",
    "#Check if \"logy\" is present, but NOT at the beginning of a word"
   ]
  },
  {
   "cell_type": "code",
   "execution_count": 91,
   "metadata": {},
   "outputs": [
    {
     "name": "stdout",
     "output_type": "stream",
     "text": [
      "None\n"
     ]
    }
   ],
   "source": [
    "x = re.search(r\"logy\\B\",a)\n",
    "\n",
    "print(x)\n",
    "#Check if \"logy\" is present, but NOT at the end of a word"
   ]
  },
  {
   "cell_type": "code",
   "execution_count": 92,
   "metadata": {},
   "outputs": [
    {
     "name": "stdout",
     "output_type": "stream",
     "text": [
      "<re.Match object; span=(57, 58), match='1'>\n"
     ]
    }
   ],
   "source": [
    "x = re.search(\"\\d\",a)\n",
    "\n",
    "print(x)\n",
    "#Check if the string contains any digits (numbers from 0-9):"
   ]
  },
  {
   "cell_type": "code",
   "execution_count": 93,
   "metadata": {},
   "outputs": [
    {
     "name": "stdout",
     "output_type": "stream",
     "text": [
      "<re.Match object; span=(0, 1), match='i'>\n"
     ]
    }
   ],
   "source": [
    "x = re.search(\"\\D\",a)\n",
    "\n",
    "print(x)\n",
    "#Return a match at every no-digit character:"
   ]
  },
  {
   "cell_type": "markdown",
   "metadata": {},
   "source": [
    "[arn]\tReturns a match where one of the specified characters (a, r, or n) are present\t\n",
    "[a-n]\tReturns a match for any lower case character, alphabetically between a and n\t\n",
    "[^arn]\tReturns a match for any character EXCEPT a, r, and n\t\n",
    "[0123]\tReturns a match where any of the specified digits (0, 1, 2, or 3) are present\t\n",
    "[0-9]\tReturns a match for any digit between 0 and 9\t\n",
    "[0-5][0-9]\tReturns a match for any two-digit numbers from 00 and 59\t\n",
    "[a-zA-Z]\tReturns a match for any character alphabetically between a and z, lower case OR upper case\t\n",
    "[+]\tIn sets, +, *, ., |, (), $,{} has no special meaning, so [+] means: return a match for any + character in the string"
   ]
  },
  {
   "cell_type": "code",
   "execution_count": 96,
   "metadata": {},
   "outputs": [
    {
     "name": "stdout",
     "output_type": "stream",
     "text": [
      "['i', 'am', 'a', 'boy', 'and', 'my', 'name', 'is', 'prathamesh', 'bane', 'my', 'email', 'pratha1536839793.', 'edxxxxxxxxx', 'im', 'studying', 'in', 'stevens', '#zentlogy', '!', 'institute', 'of', 'technology.']\n"
     ]
    }
   ],
   "source": [
    "x = re.split(\"\\s\",a)\n",
    "#Split the string at every white-space character:\n",
    "\n",
    "\n",
    "print(x)"
   ]
  },
  {
   "cell_type": "code",
   "execution_count": 97,
   "metadata": {},
   "outputs": [
    {
     "name": "stdout",
     "output_type": "stream",
     "text": [
      "['i', 'am', 'a', 'boy', 'and', 'my', 'name is prathamesh bane my email pratha1536839793. edxxxxxxxxx im studying in stevens #zentlogy ! institute of technology.']\n"
     ]
    }
   ],
   "source": [
    "x = re.split(\"\\s\",a,6)\n",
    "#Split the string at every white-space character:\n",
    "\n",
    "\n",
    "print(x)"
   ]
  },
  {
   "cell_type": "code",
   "execution_count": 101,
   "metadata": {},
   "outputs": [
    {
     "name": "stdout",
     "output_type": "stream",
     "text": [
      "i9am9a9boy9and9my9name9is9prathamesh9bane9my9email9pratha1536839793.9edxxxxxxxxx9im9studying9in9stevens9#zentlogy9!9institute9of9technology.\n"
     ]
    }
   ],
   "source": [
    "x = re.sub(\"\\s\",\"9\",a)\n",
    "\n",
    "print(x)\n",
    "\n",
    "#Replace every white-space character with the number 9:\n",
    "\n"
   ]
  },
  {
   "cell_type": "code",
   "execution_count": 103,
   "metadata": {},
   "outputs": [
    {
     "name": "stdout",
     "output_type": "stream",
     "text": [
      "i9am9a boy and my name is prathamesh bane my email pratha1536839793. edxxxxxxxxx im studying in stevens #zentlogy ! institute of technology.\n"
     ]
    }
   ],
   "source": [
    "x = re.sub(\"\\s\",\"9\",a,2)\n",
    "\n",
    "print(x)"
   ]
  },
  {
   "cell_type": "code",
   "execution_count": 114,
   "metadata": {},
   "outputs": [
    {
     "name": "stdout",
     "output_type": "stream",
     "text": [
      "(18, 22)\n",
      "i am a boy and my name is prathamesh bane my email pratha1536839793. edxxxxxxxxx im studying in stevens #zentlogy ! institute of technology.\n",
      "name\n"
     ]
    }
   ],
   "source": [
    "#.span() returns a tuple containing the start-, and end positions of the match.\n",
    "#.string returns the string passed into the function\n",
    "#.group() returns the part of the string where there was a match\n",
    "\n",
    "\n",
    "x = re.search(r\"\\bn\\w+\",a)\n",
    "\n",
    "print(x.span())\n",
    "print(x.string)\n",
    "print(x.group())"
   ]
  },
  {
   "cell_type": "markdown",
   "metadata": {},
   "source": [
    "# Python JSON"
   ]
  },
  {
   "cell_type": "code",
   "execution_count": 1,
   "metadata": {},
   "outputs": [],
   "source": [
    "import json"
   ]
  },
  {
   "cell_type": "code",
   "execution_count": 5,
   "metadata": {},
   "outputs": [
    {
     "name": "stdout",
     "output_type": "stream",
     "text": [
      "{'name': 'prathamesh', 'age': 50, 'school': 'SIT'}\n"
     ]
    }
   ],
   "source": [
    "x = '{\"name\":\"prathamesh\",\"age\": 50, \"school\":\"SIT\"}'\n",
    "\n",
    "a = json.loads(x)\n",
    "\n",
    "print(a)\n",
    "\n",
    "#convert json format to python dict"
   ]
  },
  {
   "cell_type": "code",
   "execution_count": 6,
   "metadata": {},
   "outputs": [
    {
     "name": "stdout",
     "output_type": "stream",
     "text": [
      "{\"name\": \"prathamesh\", \"age\": 50, \"school\": \"SIT\"}\n"
     ]
    }
   ],
   "source": [
    "x = {\"name\":\"prathamesh\",\"age\": 50, \"school\":\"SIT\"}\n",
    "\n",
    "a = json.dumps(x)\n",
    "\n",
    "#python dict convert into json\n",
    "\n",
    "print(a)"
   ]
  },
  {
   "cell_type": "markdown",
   "metadata": {},
   "source": [
    "# Class"
   ]
  },
  {
   "cell_type": "code",
   "execution_count": 17,
   "metadata": {},
   "outputs": [],
   "source": [
    "class car:\n",
    "    \n",
    "    def __init__(self,brand,engine,price):\n",
    "        self.brand=brand\n",
    "        self.engine=engine\n",
    "        self.price=price\n",
    "    \n",
    "    def statement(self):\n",
    "        print(\"this is {} has {} which cost me {}\".format(self.brand,self.engine,self.price))\n",
    "        \n",
    "c1= car(\"audi\",\"x3\",20)\n",
    "    "
   ]
  },
  {
   "cell_type": "code",
   "execution_count": 18,
   "metadata": {},
   "outputs": [
    {
     "name": "stdout",
     "output_type": "stream",
     "text": [
      "this is audi has x3 which cost me 20\n"
     ]
    }
   ],
   "source": [
    "c1.statement()"
   ]
  },
  {
   "cell_type": "markdown",
   "metadata": {},
   "source": [
    "## Inheritence"
   ]
  },
  {
   "cell_type": "code",
   "execution_count": 30,
   "metadata": {},
   "outputs": [
    {
     "ename": "TypeError",
     "evalue": "__init__() takes 4 positional arguments but 5 were given",
     "output_type": "error",
     "traceback": [
      "\u001b[1;31m---------------------------------------------------------------------------\u001b[0m",
      "\u001b[1;31mTypeError\u001b[0m                                 Traceback (most recent call last)",
      "\u001b[1;32m<ipython-input-30-ecd6ac221690>\u001b[0m in \u001b[0;36m<module>\u001b[1;34m\u001b[0m\n\u001b[0;32m     16\u001b[0m \u001b[1;33m\u001b[0m\u001b[0m\n\u001b[0;32m     17\u001b[0m \u001b[1;33m\u001b[0m\u001b[0m\n\u001b[1;32m---> 18\u001b[1;33m \u001b[0mt1\u001b[0m \u001b[1;33m=\u001b[0m \u001b[0mtruck\u001b[0m\u001b[1;33m(\u001b[0m\u001b[1;34m\"ford\"\u001b[0m\u001b[1;33m,\u001b[0m\u001b[1;34m\"e#\"\u001b[0m\u001b[1;33m,\u001b[0m\u001b[1;36m50\u001b[0m\u001b[1;33m,\u001b[0m\u001b[1;36m6\u001b[0m\u001b[1;33m)\u001b[0m\u001b[1;33m\u001b[0m\u001b[1;33m\u001b[0m\u001b[0m\n\u001b[0m\u001b[0;32m     19\u001b[0m \u001b[1;33m\u001b[0m\u001b[0m\n",
      "\u001b[1;31mTypeError\u001b[0m: __init__() takes 4 positional arguments but 5 were given"
     ]
    }
   ],
   "source": [
    "class car:\n",
    "    \n",
    "    def __init__(self,brand,engine,price):\n",
    "        self.brand=brand\n",
    "        self.engine=engine\n",
    "        self.price=price\n",
    "    \n",
    "    def statement(self):\n",
    "        print(\"this is {} has {} which cost me {}\".format(self.brand,self.engine,self.price))\n",
    "        \n",
    "c1= car(\"audi\",\"x3\",20)\n",
    "\n",
    "class truck(car):\n",
    "    def ft(self,wheels):\n",
    "        self.wheels=wheels\n",
    "    \n",
    "\n",
    "t1 = truck(\"ford\",\"e#\",50,6)\n",
    "\n"
   ]
  },
  {
   "cell_type": "code",
   "execution_count": 20,
   "metadata": {},
   "outputs": [
    {
     "data": {
      "text/plain": [
       "'ford'"
      ]
     },
     "execution_count": 20,
     "metadata": {},
     "output_type": "execute_result"
    }
   ],
   "source": [
    "t1.brand"
   ]
  },
  {
   "cell_type": "code",
   "execution_count": 21,
   "metadata": {},
   "outputs": [
    {
     "name": "stdout",
     "output_type": "stream",
     "text": [
      "this is ford has e# which cost me 50\n"
     ]
    }
   ],
   "source": [
    "t1.statement()"
   ]
  },
  {
   "cell_type": "code",
   "execution_count": 22,
   "metadata": {},
   "outputs": [
    {
     "name": "stdout",
     "output_type": "stream",
     "text": [
      "this is audi has x3 which cost me 20\n"
     ]
    }
   ],
   "source": [
    "c1.statement()"
   ]
  },
  {
   "cell_type": "markdown",
   "metadata": {},
   "source": [
    "# Pyhton Lambda Function"
   ]
  },
  {
   "cell_type": "code",
   "execution_count": 1,
   "metadata": {},
   "outputs": [],
   "source": [
    "x = lambda a,b : a+b"
   ]
  },
  {
   "cell_type": "code",
   "execution_count": 2,
   "metadata": {},
   "outputs": [
    {
     "name": "stdout",
     "output_type": "stream",
     "text": [
      "5\n"
     ]
    }
   ],
   "source": [
    "print(x(2,3))"
   ]
  },
  {
   "cell_type": "code",
   "execution_count": 11,
   "metadata": {},
   "outputs": [],
   "source": [
    "def prathamesh(n):\n",
    "    \n",
    "    return lambda x,y : x+(n*y)\n",
    "    "
   ]
  },
  {
   "cell_type": "code",
   "execution_count": 16,
   "metadata": {},
   "outputs": [
    {
     "data": {
      "text/plain": [
       "<function __main__.prathamesh.<locals>.<lambda>(x, y)>"
      ]
     },
     "execution_count": 16,
     "metadata": {},
     "output_type": "execute_result"
    }
   ],
   "source": [
    "prathamesh(10)"
   ]
  },
  {
   "cell_type": "code",
   "execution_count": 17,
   "metadata": {},
   "outputs": [
    {
     "name": "stdout",
     "output_type": "stream",
     "text": [
      "2100\n"
     ]
    }
   ],
   "source": [
    "print(prathamesh(10)(100,200))"
   ]
  },
  {
   "cell_type": "markdown",
   "metadata": {},
   "source": [
    "# Python Dictionaries"
   ]
  },
  {
   "cell_type": "code",
   "execution_count": 56,
   "metadata": {},
   "outputs": [],
   "source": [
    "college = {\"student\":\"Prathamesh\",\"year\":2, \"sub\":[\"extc\",\"data sci\"]}"
   ]
  },
  {
   "cell_type": "code",
   "execution_count": 29,
   "metadata": {},
   "outputs": [
    {
     "data": {
      "text/plain": [
       "{'student': 'Prathamesh', 'year': 2, 'sub': ['extc', 'data sci']}"
      ]
     },
     "execution_count": 29,
     "metadata": {},
     "output_type": "execute_result"
    }
   ],
   "source": [
    "college"
   ]
  },
  {
   "cell_type": "code",
   "execution_count": 25,
   "metadata": {},
   "outputs": [
    {
     "name": "stdout",
     "output_type": "stream",
     "text": [
      "Prathamesh\n"
     ]
    }
   ],
   "source": [
    "print(college.get(\"student\"))"
   ]
  },
  {
   "cell_type": "code",
   "execution_count": 26,
   "metadata": {},
   "outputs": [
    {
     "name": "stdout",
     "output_type": "stream",
     "text": [
      "dict_keys(['student', 'year', 'sub'])\n"
     ]
    }
   ],
   "source": [
    "print(college.keys())"
   ]
  },
  {
   "cell_type": "code",
   "execution_count": 27,
   "metadata": {},
   "outputs": [
    {
     "name": "stdout",
     "output_type": "stream",
     "text": [
      "dict_values(['Prathamesh', 2, ['extc', 'data sci']])\n"
     ]
    }
   ],
   "source": [
    "print(college.values())"
   ]
  },
  {
   "cell_type": "code",
   "execution_count": 30,
   "metadata": {},
   "outputs": [
    {
     "data": {
      "text/plain": [
       "dict_items([('student', 'Prathamesh'), ('year', 2), ('sub', ['extc', 'data sci'])])"
      ]
     },
     "execution_count": 30,
     "metadata": {},
     "output_type": "execute_result"
    }
   ],
   "source": [
    "college.items()\n",
    "\n",
    "#The items() method will return each item in a dictionary, as tuples in a list."
   ]
  },
  {
   "cell_type": "code",
   "execution_count": 32,
   "metadata": {},
   "outputs": [],
   "source": [
    "college[\"score\"]=97"
   ]
  },
  {
   "cell_type": "code",
   "execution_count": 33,
   "metadata": {},
   "outputs": [
    {
     "data": {
      "text/plain": [
       "{'student': 'Prathamesh', 'year': 2, 'sub': ['extc', 'data sci'], 'score': 97}"
      ]
     },
     "execution_count": 33,
     "metadata": {},
     "output_type": "execute_result"
    }
   ],
   "source": [
    "college"
   ]
  },
  {
   "cell_type": "code",
   "execution_count": 34,
   "metadata": {},
   "outputs": [],
   "source": [
    "college[\"score\"]=79"
   ]
  },
  {
   "cell_type": "code",
   "execution_count": 35,
   "metadata": {},
   "outputs": [
    {
     "data": {
      "text/plain": [
       "{'student': 'Prathamesh', 'year': 2, 'sub': ['extc', 'data sci'], 'score': 79}"
      ]
     },
     "execution_count": 35,
     "metadata": {},
     "output_type": "execute_result"
    }
   ],
   "source": [
    "college"
   ]
  },
  {
   "cell_type": "code",
   "execution_count": 36,
   "metadata": {},
   "outputs": [],
   "source": [
    "college.update({\"score\":90})\n",
    "\n",
    "#add new value"
   ]
  },
  {
   "cell_type": "code",
   "execution_count": 52,
   "metadata": {},
   "outputs": [
    {
     "data": {
      "text/plain": [
       "{'student': 'Prathamesh', 'year': 2, 'sub': ['extc', 'data sci']}"
      ]
     },
     "execution_count": 52,
     "metadata": {},
     "output_type": "execute_result"
    }
   ],
   "source": [
    "college"
   ]
  },
  {
   "cell_type": "code",
   "execution_count": 53,
   "metadata": {},
   "outputs": [
    {
     "data": {
      "text/plain": [
       "'Prathamesh'"
      ]
     },
     "execution_count": 53,
     "metadata": {},
     "output_type": "execute_result"
    }
   ],
   "source": [
    "college.pop('student')\n",
    "\n",
    "##pop removes specific item whereas popitem remove last item in the list"
   ]
  },
  {
   "cell_type": "code",
   "execution_count": 39,
   "metadata": {},
   "outputs": [
    {
     "data": {
      "text/plain": [
       "{'year': 2, 'sub': ['extc', 'data sci'], 'score': 90}"
      ]
     },
     "execution_count": 39,
     "metadata": {},
     "output_type": "execute_result"
    }
   ],
   "source": [
    "college"
   ]
  },
  {
   "cell_type": "code",
   "execution_count": 54,
   "metadata": {},
   "outputs": [],
   "source": [
    "#The del keyword removes the item with the specified key name:\n",
    "\n",
    "del college"
   ]
  },
  {
   "cell_type": "code",
   "execution_count": 55,
   "metadata": {},
   "outputs": [
    {
     "ename": "NameError",
     "evalue": "name 'college' is not defined",
     "output_type": "error",
     "traceback": [
      "\u001b[1;31m---------------------------------------------------------------------------\u001b[0m",
      "\u001b[1;31mNameError\u001b[0m                                 Traceback (most recent call last)",
      "\u001b[1;32m<ipython-input-55-c75a7514a578>\u001b[0m in \u001b[0;36m<module>\u001b[1;34m\u001b[0m\n\u001b[1;32m----> 1\u001b[1;33m \u001b[0mcollege\u001b[0m\u001b[1;33m\u001b[0m\u001b[1;33m\u001b[0m\u001b[0m\n\u001b[0m",
      "\u001b[1;31mNameError\u001b[0m: name 'college' is not defined"
     ]
    }
   ],
   "source": [
    "college"
   ]
  },
  {
   "cell_type": "code",
   "execution_count": 57,
   "metadata": {},
   "outputs": [],
   "source": [
    "college.clear()\n",
    "#empty the entire dict"
   ]
  },
  {
   "cell_type": "code",
   "execution_count": 58,
   "metadata": {},
   "outputs": [
    {
     "data": {
      "text/plain": [
       "{}"
      ]
     },
     "execution_count": 58,
     "metadata": {},
     "output_type": "execute_result"
    }
   ],
   "source": [
    "college"
   ]
  },
  {
   "cell_type": "markdown",
   "metadata": {},
   "source": [
    "## List is a collection which is ordered and changeable. Allows duplicate members.\n",
    "## Tuple is a collection which is ordered and unchangeable. Allows duplicate members.\n",
    "## Set is a collection which is unordered and unindexed. No duplicate members.\n",
    "## Dictionary is a collection which is ordered* and changeable. No duplicate members."
   ]
  },
  {
   "cell_type": "markdown",
   "metadata": {},
   "source": [
    "## Python Sets"
   ]
  },
  {
   "cell_type": "code",
   "execution_count": 2,
   "metadata": {},
   "outputs": [
    {
     "name": "stdout",
     "output_type": "stream",
     "text": [
      "{'a', 'd', 'b', 'c'}\n"
     ]
    }
   ],
   "source": [
    "a = {'a','b','c','d','a','b'}\n",
    "\n",
    "print(a)"
   ]
  },
  {
   "cell_type": "code",
   "execution_count": 3,
   "metadata": {},
   "outputs": [
    {
     "name": "stdout",
     "output_type": "stream",
     "text": [
      "<class 'set'>\n"
     ]
    }
   ],
   "source": [
    "print(type(a))"
   ]
  },
  {
   "cell_type": "code",
   "execution_count": 4,
   "metadata": {},
   "outputs": [
    {
     "name": "stdout",
     "output_type": "stream",
     "text": [
      "a\n",
      "d\n",
      "b\n",
      "c\n"
     ]
    }
   ],
   "source": [
    "for i in a:\n",
    "    print(i)"
   ]
  },
  {
   "cell_type": "code",
   "execution_count": 5,
   "metadata": {},
   "outputs": [],
   "source": [
    "a.add('z')"
   ]
  },
  {
   "cell_type": "code",
   "execution_count": 6,
   "metadata": {},
   "outputs": [
    {
     "name": "stdout",
     "output_type": "stream",
     "text": [
      "{'c', 'z', 'd', 'a', 'b'}\n"
     ]
    }
   ],
   "source": [
    "print(a)"
   ]
  },
  {
   "cell_type": "code",
   "execution_count": 8,
   "metadata": {},
   "outputs": [
    {
     "name": "stdout",
     "output_type": "stream",
     "text": [
      "{'q', 'c', 'z', 's', 'd', 'a', 'p', 'r', 'b', 'j'}\n"
     ]
    }
   ],
   "source": [
    "b = {'p','q','r','s','j'}\n",
    "\n",
    "\n",
    "a.update(b)\n",
    "\n",
    "print(a)"
   ]
  },
  {
   "cell_type": "code",
   "execution_count": 9,
   "metadata": {},
   "outputs": [
    {
     "data": {
      "text/plain": [
       "{'j', 'p', 'q', 'r', 's'}"
      ]
     },
     "execution_count": 9,
     "metadata": {},
     "output_type": "execute_result"
    }
   ],
   "source": [
    "a.intersection(b)"
   ]
  },
  {
   "cell_type": "code",
   "execution_count": 10,
   "metadata": {},
   "outputs": [
    {
     "data": {
      "text/plain": [
       "{'a', 'b', 'c', 'd', 'z'}"
      ]
     },
     "execution_count": 10,
     "metadata": {},
     "output_type": "execute_result"
    }
   ],
   "source": [
    "a.symmetric_difference(b)"
   ]
  },
  {
   "cell_type": "code",
   "execution_count": 11,
   "metadata": {},
   "outputs": [],
   "source": [
    "a.symmetric_difference_update(b)"
   ]
  },
  {
   "cell_type": "code",
   "execution_count": 12,
   "metadata": {},
   "outputs": [
    {
     "data": {
      "text/plain": [
       "{'a', 'b', 'c', 'd', 'j', 'p', 'q', 'r', 's', 'z'}"
      ]
     },
     "execution_count": 12,
     "metadata": {},
     "output_type": "execute_result"
    }
   ],
   "source": [
    "a.union(b)"
   ]
  },
  {
   "cell_type": "markdown",
   "metadata": {},
   "source": [
    "#The intersection_update() method will keep only the items that are present in both sets.\n",
    "The intersection() method will return a new set, that only contains the items that are present in both sets."
   ]
  },
  {
   "cell_type": "code",
   "execution_count": 13,
   "metadata": {},
   "outputs": [],
   "source": [
    "a.intersection_update(b)"
   ]
  },
  {
   "cell_type": "code",
   "execution_count": 14,
   "metadata": {},
   "outputs": [
    {
     "data": {
      "text/plain": [
       "set()"
      ]
     },
     "execution_count": 14,
     "metadata": {},
     "output_type": "execute_result"
    }
   ],
   "source": [
    "a.intersection(b)"
   ]
  },
  {
   "cell_type": "code",
   "execution_count": 15,
   "metadata": {},
   "outputs": [
    {
     "data": {
      "text/plain": [
       "True"
      ]
     },
     "execution_count": 15,
     "metadata": {},
     "output_type": "execute_result"
    }
   ],
   "source": [
    "#The isdisjoint() method returns True if none of the items are present in both sets, otherwise it returns False.\n",
    "\n",
    "a.isdisjoint(b)"
   ]
  },
  {
   "cell_type": "code",
   "execution_count": 16,
   "metadata": {},
   "outputs": [
    {
     "data": {
      "text/plain": [
       "True"
      ]
     },
     "execution_count": 16,
     "metadata": {},
     "output_type": "execute_result"
    }
   ],
   "source": [
    "#The issubset() method returns True if all items in the set exists in the specified set, otherwise it retuns False.\n",
    "\n",
    "a.issubset(b)"
   ]
  },
  {
   "cell_type": "code",
   "execution_count": 21,
   "metadata": {},
   "outputs": [
    {
     "data": {
      "text/plain": [
       "True"
      ]
     },
     "execution_count": 21,
     "metadata": {},
     "output_type": "execute_result"
    }
   ],
   "source": [
    "#The issuperset() method returns True if all items in the specified set exists in the original set, otherwise it retuns False.\n",
    "\n",
    "b.issuperset(a)\n"
   ]
  },
  {
   "cell_type": "markdown",
   "metadata": {},
   "source": [
    "# Python List"
   ]
  },
  {
   "cell_type": "code",
   "execution_count": 44,
   "metadata": {},
   "outputs": [],
   "source": [
    "#lists are ordered, it means that the items have a defined order, and that order will not change.\n",
    "\n",
    "\n",
    "a = ['as','skadbkc','isgwcb','sbicbiq','cbshbajioa']"
   ]
  },
  {
   "cell_type": "code",
   "execution_count": 23,
   "metadata": {},
   "outputs": [],
   "source": [
    "#create new list\n",
    "\n",
    "b = list((\"apple\", \"banana\", \"cherry\"))"
   ]
  },
  {
   "cell_type": "code",
   "execution_count": 25,
   "metadata": {},
   "outputs": [
    {
     "name": "stdout",
     "output_type": "stream",
     "text": [
      "['as', 'skadbkc']\n"
     ]
    }
   ],
   "source": [
    "print(a[:2])\n",
    "\n",
    "# The search will start at index 2 (included) and end at index 5 (not included)."
   ]
  },
  {
   "cell_type": "code",
   "execution_count": 26,
   "metadata": {},
   "outputs": [],
   "source": [
    "b[1]=\"bc\""
   ]
  },
  {
   "cell_type": "code",
   "execution_count": 27,
   "metadata": {},
   "outputs": [
    {
     "data": {
      "text/plain": [
       "['apple', 'bc', 'cherry']"
      ]
     },
     "execution_count": 27,
     "metadata": {},
     "output_type": "execute_result"
    }
   ],
   "source": [
    "b\n",
    "\n",
    "#To change the value of a specific item, refer to the index number"
   ]
  },
  {
   "cell_type": "code",
   "execution_count": 29,
   "metadata": {},
   "outputs": [
    {
     "data": {
      "text/plain": [
       "['apple', 'bc', 'water', 'water', 'cherry']"
      ]
     },
     "execution_count": 29,
     "metadata": {},
     "output_type": "execute_result"
    }
   ],
   "source": [
    "b.insert(2,'water')\n",
    "\n",
    "b"
   ]
  },
  {
   "cell_type": "code",
   "execution_count": 30,
   "metadata": {},
   "outputs": [],
   "source": [
    "b.append(\"orange\")"
   ]
  },
  {
   "cell_type": "code",
   "execution_count": 32,
   "metadata": {},
   "outputs": [],
   "source": [
    "a.extend(b)\n",
    "\n",
    "#extend() method does not have to append lists, you can add any iterable object (tuples, sets, dictionaries etc.)."
   ]
  },
  {
   "cell_type": "code",
   "execution_count": 34,
   "metadata": {},
   "outputs": [
    {
     "data": {
      "text/plain": [
       "['as',\n",
       " 'skadbkc',\n",
       " 'isgwcb',\n",
       " 'sbicbiq',\n",
       " 'cbshbajioa',\n",
       " 'bc',\n",
       " 'water',\n",
       " 'water',\n",
       " 'cherry',\n",
       " 'orange',\n",
       " 'bc',\n",
       " 'water',\n",
       " 'water',\n",
       " 'cherry',\n",
       " 'orange']"
      ]
     },
     "execution_count": 34,
     "metadata": {},
     "output_type": "execute_result"
    }
   ],
   "source": [
    "a.remove(\"apple\")\n",
    "\n",
    "a"
   ]
  },
  {
   "cell_type": "code",
   "execution_count": 35,
   "metadata": {},
   "outputs": [
    {
     "data": {
      "text/plain": [
       "'isgwcb'"
      ]
     },
     "execution_count": 35,
     "metadata": {},
     "output_type": "execute_result"
    }
   ],
   "source": [
    "a.pop(2)"
   ]
  },
  {
   "cell_type": "code",
   "execution_count": 36,
   "metadata": {},
   "outputs": [],
   "source": [
    "del a"
   ]
  },
  {
   "cell_type": "code",
   "execution_count": 37,
   "metadata": {},
   "outputs": [
    {
     "ename": "NameError",
     "evalue": "name 'a' is not defined",
     "output_type": "error",
     "traceback": [
      "\u001b[1;31m---------------------------------------------------------------------------\u001b[0m",
      "\u001b[1;31mNameError\u001b[0m                                 Traceback (most recent call last)",
      "\u001b[1;32m<ipython-input-37-c35949880b1f>\u001b[0m in \u001b[0;36m<module>\u001b[1;34m\u001b[0m\n\u001b[1;32m----> 1\u001b[1;33m \u001b[0ma\u001b[0m\u001b[1;33m.\u001b[0m\u001b[0mclear\u001b[0m\u001b[1;33m(\u001b[0m\u001b[1;33m)\u001b[0m\u001b[1;33m\u001b[0m\u001b[1;33m\u001b[0m\u001b[0m\n\u001b[0m",
      "\u001b[1;31mNameError\u001b[0m: name 'a' is not defined"
     ]
    }
   ],
   "source": [
    "a.clear()"
   ]
  },
  {
   "cell_type": "code",
   "execution_count": 39,
   "metadata": {},
   "outputs": [
    {
     "name": "stdout",
     "output_type": "stream",
     "text": [
      "as\n",
      "skadbkc\n",
      "isgwcb\n",
      "sbicbiq\n",
      "cbshbajioa\n"
     ]
    }
   ],
   "source": [
    "for x in a:\n",
    "    print(x)"
   ]
  },
  {
   "cell_type": "code",
   "execution_count": 40,
   "metadata": {},
   "outputs": [
    {
     "name": "stdout",
     "output_type": "stream",
     "text": [
      "as\n",
      "skadbkc\n",
      "isgwcb\n",
      "sbicbiq\n",
      "cbshbajioa\n"
     ]
    }
   ],
   "source": [
    "\n",
    "#For loop\n",
    "\n",
    "for x in range(len(a)):\n",
    "  print(a[x])"
   ]
  },
  {
   "cell_type": "code",
   "execution_count": 42,
   "metadata": {},
   "outputs": [
    {
     "name": "stdout",
     "output_type": "stream",
     "text": [
      "as\n",
      "skadbkc\n",
      "isgwcb\n",
      "sbicbiq\n",
      "cbshbajioa\n"
     ]
    }
   ],
   "source": [
    "#while loop\n",
    "\n",
    "i = 0\n",
    "\n",
    "while i < len(a):\n",
    "    print(a[i])\n",
    "    i = i + 1"
   ]
  },
  {
   "cell_type": "code",
   "execution_count": 46,
   "metadata": {},
   "outputs": [
    {
     "name": "stdout",
     "output_type": "stream",
     "text": [
      "as\n",
      "skadbkc\n",
      "isgwcb\n",
      "sbicbiq\n",
      "cbshbajioa\n"
     ]
    },
    {
     "data": {
      "text/plain": [
       "[None, None, None, None, None]"
      ]
     },
     "execution_count": 46,
     "metadata": {},
     "output_type": "execute_result"
    }
   ],
   "source": [
    "#List comprehension\n",
    "\n",
    "\n",
    "[print(x) for x in a]\n"
   ]
  },
  {
   "cell_type": "code",
   "execution_count": 47,
   "metadata": {},
   "outputs": [
    {
     "name": "stdout",
     "output_type": "stream",
     "text": [
      "['as', 'skadbkc', 'cbshbajioa']\n"
     ]
    }
   ],
   "source": [
    "#\n",
    "c = []\n",
    "for x in a:\n",
    "    if \"a\" in x:\n",
    "        c.append(x)\n",
    "        \n",
    "print(c)\n",
    "        "
   ]
  },
  {
   "cell_type": "code",
   "execution_count": 50,
   "metadata": {},
   "outputs": [
    {
     "name": "stdout",
     "output_type": "stream",
     "text": [
      "['skadbkc', 'isgwcb', 'sbicbiq', 'cbshbajioa']\n"
     ]
    }
   ],
   "source": [
    "\n",
    "\n",
    "print([x for x in a if \"b\" in x])"
   ]
  },
  {
   "cell_type": "code",
   "execution_count": 52,
   "metadata": {},
   "outputs": [],
   "source": [
    "c.sort(reverse = True)"
   ]
  },
  {
   "cell_type": "code",
   "execution_count": 54,
   "metadata": {},
   "outputs": [
    {
     "name": "stdout",
     "output_type": "stream",
     "text": [
      "['as', 'skadbkc', 'isgwcb', 'sbicbiq', 'cbshbajioa', ['apple', 'bc', 'water', 'water', 'cherry', 'orange'], 'apple', 'bc', 'water', 'water', 'cherry', 'orange', ['apple', 'bc', 'water', 'water', 'cherry', 'orange'], 'apple', 'bc', 'water', 'water', 'cherry', 'orange', 'apple', 'bc', 'water', 'water', 'cherry', 'orange']\n"
     ]
    }
   ],
   "source": [
    "a.append(b)\n",
    "a.extend(b)\n",
    "print(a+b)"
   ]
  },
  {
   "cell_type": "markdown",
   "metadata": {},
   "source": [
    "# Pyhton Tuples"
   ]
  },
  {
   "cell_type": "code",
   "execution_count": 56,
   "metadata": {},
   "outputs": [
    {
     "name": "stdout",
     "output_type": "stream",
     "text": [
      "pra\n"
     ]
    }
   ],
   "source": [
    "a = ('pra','ni','pu','shi')\n",
    "\n",
    "print(a[0])"
   ]
  },
  {
   "cell_type": "code",
   "execution_count": 57,
   "metadata": {},
   "outputs": [
    {
     "name": "stdout",
     "output_type": "stream",
     "text": [
      "('prathi', 'ni', 'pu', 'shi')\n"
     ]
    }
   ],
   "source": [
    "# update tuples : for changing a tuple, you can convert it into a list, add your item(s), and convert it back into a tuple.\n",
    "\n",
    "b = list(a)\n",
    "\n",
    "b[0]= 'prathi'\n",
    "\n",
    "a = tuple(b)\n",
    "\n",
    "print(a)"
   ]
  },
  {
   "cell_type": "code",
   "execution_count": null,
   "metadata": {},
   "outputs": [],
   "source": []
  }
 ],
 "metadata": {
  "kernelspec": {
   "display_name": "Python 3",
   "language": "python",
   "name": "python3"
  },
  "language_info": {
   "codemirror_mode": {
    "name": "ipython",
    "version": 3
   },
   "file_extension": ".py",
   "mimetype": "text/x-python",
   "name": "python",
   "nbconvert_exporter": "python",
   "pygments_lexer": "ipython3",
   "version": "3.7.4"
  }
 },
 "nbformat": 4,
 "nbformat_minor": 2
}
